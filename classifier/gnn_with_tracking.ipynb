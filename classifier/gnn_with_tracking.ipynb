{
 "cells": [
  {
   "cell_type": "markdown",
   "id": "automotive-civilian",
   "metadata": {},
   "source": [
    "# Graph Neural Networks with new tracking dataset\n",
    "\n",
    "Ming Fong"
   ]
  },
  {
   "cell_type": "code",
   "execution_count": 1,
   "id": "announced-vocabulary",
   "metadata": {},
   "outputs": [],
   "source": [
    "%load_ext autoreload\n",
    "%autoreload 2"
   ]
  },
  {
   "cell_type": "code",
   "execution_count": 2,
   "id": "emerging-ukraine",
   "metadata": {},
   "outputs": [
    {
     "name": "stdout",
     "output_type": "stream",
     "text": [
      "/device:GPU:0\n",
      "Num GPUs Available:  1\n"
     ]
    },
    {
     "data": {
      "text/plain": [
       "[PhysicalDevice(name='/physical_device:CPU:0', device_type='CPU'),\n",
       " PhysicalDevice(name='/physical_device:XLA_CPU:0', device_type='XLA_CPU'),\n",
       " PhysicalDevice(name='/physical_device:XLA_GPU:0', device_type='XLA_GPU'),\n",
       " PhysicalDevice(name='/physical_device:GPU:0', device_type='GPU')]"
      ]
     },
     "execution_count": 2,
     "metadata": {},
     "output_type": "execute_result"
    }
   ],
   "source": [
    "#import libraries and some constants\n",
    "\n",
    "import os\n",
    "import time\n",
    "import numpy as np\n",
    "import matplotlib as mpl\n",
    "import matplotlib.pyplot as plt\n",
    "from matplotlib.colors import Normalize, LogNorm\n",
    "import pandas as pd\n",
    "import tensorflow as tf\n",
    "\n",
    "pd.set_option('display.max_columns', 100)\n",
    "pd.set_option('display.max_rows', 100)\n",
    "\n",
    "import uproot3 as ur\n",
    "# import atlas_mpl_style as ampl\n",
    "# ampl.use_atlas_style()\n",
    "\n",
    "path_prefix = '/home/mfong/git/LCStudies/'\n",
    "plotpath = path_prefix + 'classifier/Plots/'\n",
    "modelpath = path_prefix + 'classifier/Models/'\n",
    "# %config InlineBackend.figure_format = 'svg'\n",
    "\n",
    "# metadata\n",
    "layers = [\"EMB1\", \"EMB2\", \"EMB3\", \"TileBar0\", \"TileBar1\", \"TileBar2\"]\n",
    "cell_size_phi = [0.098, 0.0245, 0.0245, 0.1, 0.1, 0.1]\n",
    "cell_size_eta = [0.0031, 0.025, 0.05, 0.1, 0.1, 0.2]\n",
    "len_phi = [4, 16, 16, 4, 4, 4]\n",
    "len_eta = [128, 16, 8, 4, 4, 2]\n",
    "\n",
    "SEED = 42\n",
    "np.random.seed(SEED)\n",
    "tf.random.set_seed(SEED)\n",
    "\n",
    "# set up GPU\n",
    "os.environ[\"CUDA_DEVICE_ORDER\"] = \"PCI_BUS_ID\"\n",
    "os.environ[\"CUDA_VISIBLE_DEVICES\"] = \"0\"\n",
    "print(tf.test.gpu_device_name())\n",
    "\n",
    "gpus = tf.config.experimental.list_physical_devices('GPU')\n",
    "tf.config.experimental.set_virtual_device_configuration(gpus[0], [tf.config.experimental.VirtualDeviceConfiguration(memory_limit=24220)]) #in MB\n",
    "\n",
    "print(\"Num GPUs Available: \", len(gpus))\n",
    "tf.config.list_physical_devices()"
   ]
  },
  {
   "cell_type": "markdown",
   "id": "considerable-toner",
   "metadata": {},
   "source": [
    "### Jan's notebook\n",
    "\n",
    "https://github.com/janTOffermann/LCStudies/blob/master/classifier/input-update.ipynb"
   ]
  },
  {
   "cell_type": "code",
   "execution_count": null,
   "id": "stone-sustainability",
   "metadata": {},
   "outputs": [],
   "source": [
    "# TODO look at new data with positions and make edges relative distances\n",
    "\n",
    "# pi0\n",
    "# /clusterfs/ml4hep/mfong/ML4Pions/MLTreeData/user.angerami.mc16_13TeV.900246.PG_singlepi0_logE0p2to2000.e8312_e7400_s3170_r12383.v01-45-gaa27bcb_OutputStream/user.angerami.24559740.OutputStream._000011.root\n",
    "# pion\n",
    "# /clusterfs/ml4hep/mfong/ML4Pions/MLTreeData/user.angerami.mc16_13TeV.900247.PG_singlepion_logE0p2to2000.e8312_e7400_s3170_r12383.v01-45-gaa27bcb_OutputStream/user.angerami.24559744.OutputStream._000001.root\n",
    "\n",
    "MLTreeData_dir = \"/clusterfs/ml4hep/mfong/ML4Pions/MLTreeData/\"\n",
    "pi0_dir = MLTreeData_dir + \"user.angerami.mc16_13TeV.900246.PG_singlepi0_logE0p2to2000.e8312_e7400_s3170_r12383.v01-45-gaa27bcb_OutputStream/\"\n",
    "pion_dir = MLTreeData_dir + \"user.angerami.mc16_13TeV.900247.PG_singlepion_logE0p2to2000.e8312_e7400_s3170_r12383.v01-45-gaa27bcb_OutputStream/\"\n",
    "pi0_root = pi0_dir + \"user.angerami.24559740.OutputStream._000011.root\"\n",
    "pion_root = pion_dir + \"user.angerami.24559744.OutputStream._000001.root\"\n",
    "\n",
    "pi0_file = ur.open(pi0_root)\n",
    "pion_file = ur.open(pion_root)\n",
    "\n",
    "pi0_file[\"EventTree;1\"].show()\n",
    "\n",
    "pi0_file[\"EventTree;1\"].arrays(\"trackEta_EMB1\", outputtype=pd.DataFrame, entrystop=100)\n",
    "\n",
    "pi0_file[\"EventTree;1\"].arrays(\"trackPhi_EMB1\", outputtype=pd.DataFrame, entrystop=100)"
   ]
  }
 ],
 "metadata": {
  "kernelspec": {
   "display_name": "Python 3",
   "language": "python",
   "name": "python3"
  },
  "language_info": {
   "codemirror_mode": {
    "name": "ipython",
    "version": 3
   },
   "file_extension": ".py",
   "mimetype": "text/x-python",
   "name": "python",
   "nbconvert_exporter": "python",
   "pygments_lexer": "ipython3",
   "version": "3.8.5"
  }
 },
 "nbformat": 4,
 "nbformat_minor": 5
}
