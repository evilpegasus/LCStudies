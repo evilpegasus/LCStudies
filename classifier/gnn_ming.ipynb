{
 "cells": [
  {
   "cell_type": "markdown",
   "id": "attended-jacob",
   "metadata": {},
   "source": [
    "# Graph Neural Networks with new dataset\n",
    "\n",
    "Ming Fong"
   ]
  },
  {
   "cell_type": "raw",
   "id": "abroad-fountain",
   "metadata": {},
   "source": [
    "%load_ext autoreload\n",
    "%autoreload 2"
   ]
  },
  {
   "cell_type": "code",
   "execution_count": 234,
   "id": "social-remainder",
   "metadata": {},
   "outputs": [
    {
     "name": "stdout",
     "output_type": "stream",
     "text": [
      "Num GPUs Available:  1\n"
     ]
    },
    {
     "data": {
      "text/plain": [
       "[PhysicalDevice(name='/physical_device:CPU:0', device_type='CPU'),\n",
       " PhysicalDevice(name='/physical_device:XLA_CPU:0', device_type='XLA_CPU'),\n",
       " PhysicalDevice(name='/physical_device:XLA_GPU:0', device_type='XLA_GPU'),\n",
       " PhysicalDevice(name='/physical_device:GPU:0', device_type='GPU')]"
      ]
     },
     "execution_count": 234,
     "metadata": {},
     "output_type": "execute_result"
    }
   ],
   "source": [
    "#import libraries and some constants\n",
    "\n",
    "import os\n",
    "import numpy as np\n",
    "import matplotlib as mpl\n",
    "import matplotlib.pyplot as plt\n",
    "from matplotlib.colors import Normalize, LogNorm\n",
    "import scipy\n",
    "import pandas as pd\n",
    "import uproot3 as ur\n",
    "import tensorflow as tf\n",
    "import atlas_mpl_style as ampl\n",
    "from sklearn.neighbors import NearestNeighbors\n",
    "from sklearn.utils import shuffle\n",
    "from sklearn.model_selection import train_test_split\n",
    "from sklearn.metrics import roc_curve, auc\n",
    "from tqdm import tqdm\n",
    "\n",
    "from graph_nets import blocks\n",
    "from graph_nets import graphs\n",
    "from graph_nets import modules\n",
    "from graph_nets import utils_np\n",
    "from graph_nets import utils_tf\n",
    "import networkx as nx\n",
    "\n",
    "\n",
    "import functools\n",
    "import networkx as nx\n",
    "import sonnet as snt\n",
    "\n",
    "\n",
    "pd.set_option('display.max_columns', 200)\n",
    "pd.set_option('display.max_rows', 20)\n",
    "\n",
    "# ampl.use_atlas_style()\n",
    "params = {'legend.fontsize': 13,\n",
    "          'axes.labelsize': 18}\n",
    "plt.rcParams.update(params)\n",
    "\n",
    "# path_prefix = '/AL/Phd/maxml/'\n",
    "# plotpath = path_prefix+'caloml-atlas/inputs/Plots/'\n",
    "# modelpath = path_prefix+'caloml-atlas/classifier/Models/'\n",
    "# %config InlineBackend.figure_format = 'svg'\n",
    "\n",
    "# # metadata\n",
    "# layers = [\"EMB1\", \"EMB2\", \"EMB3\", \"TileBar0\", \"TileBar1\", \"TileBar2\"]\n",
    "# cell_size_phi = [0.098, 0.0245, 0.0245, 0.1, 0.1, 0.1]\n",
    "# cell_size_eta = [0.0031, 0.025, 0.05, 0.1, 0.1, 0.2]\n",
    "# len_phi = [4, 16, 16, 4, 4, 4]\n",
    "# len_eta = [128, 16, 8, 4, 4, 2]\n",
    "\n",
    "SEED = 42\n",
    "np.random.seed(SEED)\n",
    "tf.random.set_seed(SEED)\n",
    "\n",
    "\n",
    "os.environ[\"CUDA_DEVICE_ORDER\"] = \"PCI_BUS_ID\"\n",
    "os.environ[\"CUDA_VISIBLE_DEVICES\"] = \"0\"\n",
    "\n",
    "gpus = tf.config.experimental.list_physical_devices('GPU')\n",
    "tf.config.experimental.set_virtual_device_configuration(gpus[0], [tf.config.experimental.VirtualDeviceConfiguration(memory_limit=24220)]) #in MB\n",
    "\n",
    "print(\"Num GPUs Available: \", len(gpus))\n",
    "tf.config.list_physical_devices()"
   ]
  },
  {
   "cell_type": "code",
   "execution_count": 36,
   "id": "supposed-afghanistan",
   "metadata": {},
   "outputs": [],
   "source": [
    "inputpath = \"/clusterfs/ml4hep/mfong/ML4Pions/MLTreeData/\"\n",
    "inputpath_pi0 = inputpath + \"user.angerami.mc16_13TeV.900246.PG_singlepi0_logE0p2to2000.e8312_e7400_s3170_r12383.v01-45-gaa27bcb_OutputStream/\"\n",
    "inputpath_pion = inputpath + \"user.angerami.mc16_13TeV.900247.PG_singlepion_logE0p2to2000.e8312_e7400_s3170_r12383.v01-45-gaa27bcb_OutputStream/\"\n",
    "\n",
    "branches = ['runNumber', 'eventNumber', 'truthE', 'truthPt', 'truthEta',\n",
    "            'truthPhi', 'clusterIndex', 'nCluster', 'clusterE',\n",
    "            'clusterECalib', 'clusterPt', 'clusterEta', 'clusterPhi',\n",
    "            'cluster_nCells', 'cluster_sumCellE', 'cluster_ENG_CALIB_TOT',\n",
    "            'cluster_ENG_CALIB_OUT_T', 'cluster_ENG_CALIB_DEAD_TOT',\n",
    "            'cluster_EM_PROBABILITY', 'cluster_HAD_WEIGHT',\n",
    "            'cluster_OOC_WEIGHT', 'cluster_DM_WEIGHT', 'cluster_CENTER_MAG',\n",
    "            'cluster_FIRST_ENG_DENS', 'cluster_cell_dR_min',\n",
    "            'cluster_cell_dR_max', 'cluster_cell_dEta_min',\n",
    "            'cluster_cell_dEta_max', 'cluster_cell_dPhi_min',\n",
    "            'cluster_cell_dPhi_max', 'cluster_cell_centerCellEta',\n",
    "            'cluster_cell_centerCellPhi', 'cluster_cell_centerCellLayer',\n",
    "            'cluster_cellE_norm']\n",
    "geo_branches = [\n",
    "    'cell_geo_ID', 'cell_geo_sampling', 'cell_geo_eta', 'cell_geo_phi',\n",
    "    'cell_geo_rPerp', 'cell_geo_deta', 'cell_geo_dphi', 'cell_geo_volume',\n",
    "    'cell_geo_sigma'\n",
    "]"
   ]
  },
  {
   "cell_type": "code",
   "execution_count": 37,
   "id": "resistant-christian",
   "metadata": {},
   "outputs": [],
   "source": [
    "infile = ur.open(inputpath_pi0 + 'user.angerami.24559740.OutputStream._000011.root')"
   ]
  },
  {
   "cell_type": "code",
   "execution_count": 38,
   "id": "discrete-commonwealth",
   "metadata": {},
   "outputs": [
    {
     "data": {
      "text/html": [
       "<div>\n",
       "<style scoped>\n",
       "    .dataframe tbody tr th:only-of-type {\n",
       "        vertical-align: middle;\n",
       "    }\n",
       "\n",
       "    .dataframe tbody tr th {\n",
       "        vertical-align: top;\n",
       "    }\n",
       "\n",
       "    .dataframe thead th {\n",
       "        text-align: right;\n",
       "    }\n",
       "</style>\n",
       "<table border=\"1\" class=\"dataframe\">\n",
       "  <thead>\n",
       "    <tr style=\"text-align: right;\">\n",
       "      <th></th>\n",
       "      <th></th>\n",
       "      <th>cell_geo_ID</th>\n",
       "      <th>cell_geo_sampling</th>\n",
       "      <th>cell_geo_eta</th>\n",
       "      <th>cell_geo_phi</th>\n",
       "      <th>cell_geo_rPerp</th>\n",
       "      <th>cell_geo_deta</th>\n",
       "      <th>cell_geo_dphi</th>\n",
       "      <th>cell_geo_volume</th>\n",
       "      <th>cell_geo_sigma</th>\n",
       "    </tr>\n",
       "    <tr>\n",
       "      <th>entry</th>\n",
       "      <th>subentry</th>\n",
       "      <th></th>\n",
       "      <th></th>\n",
       "      <th></th>\n",
       "      <th></th>\n",
       "      <th></th>\n",
       "      <th></th>\n",
       "      <th></th>\n",
       "      <th></th>\n",
       "      <th></th>\n",
       "    </tr>\n",
       "  </thead>\n",
       "  <tbody>\n",
       "    <tr>\n",
       "      <th rowspan=\"11\" valign=\"top\">0</th>\n",
       "      <th>0</th>\n",
       "      <td>740294656</td>\n",
       "      <td>6</td>\n",
       "      <td>-2.559710</td>\n",
       "      <td>0.053900</td>\n",
       "      <td>617.735962</td>\n",
       "      <td>0.1</td>\n",
       "      <td>0.098175</td>\n",
       "      <td>1.697610e+06</td>\n",
       "      <td>49.457161</td>\n",
       "    </tr>\n",
       "    <tr>\n",
       "      <th>1</th>\n",
       "      <td>740294658</td>\n",
       "      <td>6</td>\n",
       "      <td>-2.559648</td>\n",
       "      <td>0.151909</td>\n",
       "      <td>617.774719</td>\n",
       "      <td>0.1</td>\n",
       "      <td>0.098175</td>\n",
       "      <td>1.697610e+06</td>\n",
       "      <td>49.457161</td>\n",
       "    </tr>\n",
       "    <tr>\n",
       "      <th>2</th>\n",
       "      <td>740294660</td>\n",
       "      <td>6</td>\n",
       "      <td>-2.559603</td>\n",
       "      <td>0.249912</td>\n",
       "      <td>617.803223</td>\n",
       "      <td>0.1</td>\n",
       "      <td>0.098175</td>\n",
       "      <td>1.697610e+06</td>\n",
       "      <td>49.457161</td>\n",
       "    </tr>\n",
       "    <tr>\n",
       "      <th>3</th>\n",
       "      <td>740294662</td>\n",
       "      <td>6</td>\n",
       "      <td>-2.559574</td>\n",
       "      <td>0.347912</td>\n",
       "      <td>617.821167</td>\n",
       "      <td>0.1</td>\n",
       "      <td>0.098175</td>\n",
       "      <td>1.697610e+06</td>\n",
       "      <td>49.457161</td>\n",
       "    </tr>\n",
       "    <tr>\n",
       "      <th>4</th>\n",
       "      <td>740294664</td>\n",
       "      <td>6</td>\n",
       "      <td>-2.559562</td>\n",
       "      <td>0.445909</td>\n",
       "      <td>617.828552</td>\n",
       "      <td>0.1</td>\n",
       "      <td>0.098175</td>\n",
       "      <td>1.697610e+06</td>\n",
       "      <td>49.457161</td>\n",
       "    </tr>\n",
       "    <tr>\n",
       "      <th>...</th>\n",
       "      <td>...</td>\n",
       "      <td>...</td>\n",
       "      <td>...</td>\n",
       "      <td>...</td>\n",
       "      <td>...</td>\n",
       "      <td>...</td>\n",
       "      <td>...</td>\n",
       "      <td>...</td>\n",
       "      <td>...</td>\n",
       "    </tr>\n",
       "    <tr>\n",
       "      <th>187645</th>\n",
       "      <td>1284491536</td>\n",
       "      <td>15</td>\n",
       "      <td>0.958372</td>\n",
       "      <td>-0.049087</td>\n",
       "      <td>3215.000000</td>\n",
       "      <td>0.1</td>\n",
       "      <td>0.098175</td>\n",
       "      <td>1.346147e+07</td>\n",
       "      <td>20.233513</td>\n",
       "    </tr>\n",
       "    <tr>\n",
       "      <th>187646</th>\n",
       "      <td>1284491824</td>\n",
       "      <td>17</td>\n",
       "      <td>1.058902</td>\n",
       "      <td>-0.049087</td>\n",
       "      <td>2809.000000</td>\n",
       "      <td>0.1</td>\n",
       "      <td>0.098175</td>\n",
       "      <td>1.341334e+06</td>\n",
       "      <td>10.413343</td>\n",
       "    </tr>\n",
       "    <tr>\n",
       "      <th>187647</th>\n",
       "      <td>1284492080</td>\n",
       "      <td>17</td>\n",
       "      <td>1.159304</td>\n",
       "      <td>-0.049087</td>\n",
       "      <td>2477.000000</td>\n",
       "      <td>0.1</td>\n",
       "      <td>0.098175</td>\n",
       "      <td>1.241210e+06</td>\n",
       "      <td>10.957963</td>\n",
       "    </tr>\n",
       "    <tr>\n",
       "      <th>187648</th>\n",
       "      <td>1284492592</td>\n",
       "      <td>17</td>\n",
       "      <td>1.309847</td>\n",
       "      <td>-0.049087</td>\n",
       "      <td>2060.000000</td>\n",
       "      <td>0.2</td>\n",
       "      <td>0.098175</td>\n",
       "      <td>7.739876e+05</td>\n",
       "      <td>12.509910</td>\n",
       "    </tr>\n",
       "    <tr>\n",
       "      <th>187649</th>\n",
       "      <td>1284493104</td>\n",
       "      <td>17</td>\n",
       "      <td>1.510363</td>\n",
       "      <td>-0.049087</td>\n",
       "      <td>1640.000000</td>\n",
       "      <td>0.2</td>\n",
       "      <td>0.098175</td>\n",
       "      <td>4.666501e+05</td>\n",
       "      <td>11.231500</td>\n",
       "    </tr>\n",
       "  </tbody>\n",
       "</table>\n",
       "<p>187650 rows × 9 columns</p>\n",
       "</div>"
      ],
      "text/plain": [
       "                cell_geo_ID  cell_geo_sampling  cell_geo_eta  cell_geo_phi  \\\n",
       "entry subentry                                                               \n",
       "0     0           740294656                  6     -2.559710      0.053900   \n",
       "      1           740294658                  6     -2.559648      0.151909   \n",
       "      2           740294660                  6     -2.559603      0.249912   \n",
       "      3           740294662                  6     -2.559574      0.347912   \n",
       "      4           740294664                  6     -2.559562      0.445909   \n",
       "...                     ...                ...           ...           ...   \n",
       "      187645     1284491536                 15      0.958372     -0.049087   \n",
       "      187646     1284491824                 17      1.058902     -0.049087   \n",
       "      187647     1284492080                 17      1.159304     -0.049087   \n",
       "      187648     1284492592                 17      1.309847     -0.049087   \n",
       "      187649     1284493104                 17      1.510363     -0.049087   \n",
       "\n",
       "                cell_geo_rPerp  cell_geo_deta  cell_geo_dphi  cell_geo_volume  \\\n",
       "entry subentry                                                                  \n",
       "0     0             617.735962            0.1       0.098175     1.697610e+06   \n",
       "      1             617.774719            0.1       0.098175     1.697610e+06   \n",
       "      2             617.803223            0.1       0.098175     1.697610e+06   \n",
       "      3             617.821167            0.1       0.098175     1.697610e+06   \n",
       "      4             617.828552            0.1       0.098175     1.697610e+06   \n",
       "...                        ...            ...            ...              ...   \n",
       "      187645       3215.000000            0.1       0.098175     1.346147e+07   \n",
       "      187646       2809.000000            0.1       0.098175     1.341334e+06   \n",
       "      187647       2477.000000            0.1       0.098175     1.241210e+06   \n",
       "      187648       2060.000000            0.2       0.098175     7.739876e+05   \n",
       "      187649       1640.000000            0.2       0.098175     4.666501e+05   \n",
       "\n",
       "                cell_geo_sigma  \n",
       "entry subentry                  \n",
       "0     0              49.457161  \n",
       "      1              49.457161  \n",
       "      2              49.457161  \n",
       "      3              49.457161  \n",
       "      4              49.457161  \n",
       "...                        ...  \n",
       "      187645         20.233513  \n",
       "      187646         10.413343  \n",
       "      187647         10.957963  \n",
       "      187648         12.509910  \n",
       "      187649         11.231500  \n",
       "\n",
       "[187650 rows x 9 columns]"
      ]
     },
     "execution_count": 38,
     "metadata": {},
     "output_type": "execute_result"
    }
   ],
   "source": [
    "geo_df = infile['CellGeo'].pandas.df(geo_branches)\n",
    "geo_df\n",
    "\n",
    "# eta and phi = pseudorapidity and azimuth angles\n",
    "# rPerp distance in mm from center\n",
    "\n",
    "\n",
    "\n",
    "# TODO try adding these later\n",
    "# cell_geo_deta is size of cell\n",
    "# cell_geo_dphi is size of cell\n",
    "# cell_geo_volume is volume of cell\n",
    "\n",
    "# cell_geo_sigma is noise"
   ]
  },
  {
   "cell_type": "code",
   "execution_count": 39,
   "id": "crucial-seafood",
   "metadata": {},
   "outputs": [
    {
     "name": "stderr",
     "output_type": "stream",
     "text": [
      "/global/home/users/mfong/anaconda3/envs/graph/lib/python3.8/site-packages/awkward0/array/base.py:398: VisibleDeprecationWarning: Creating an ndarray from ragged nested sequences (which is a list-or-tuple of lists-or-tuples-or ndarrays with different lengths or shapes) is deprecated. If you meant to do this, you must specify 'dtype=object' when creating the ndarray\n",
      "  return cls.numpy.array(value, copy=False)\n"
     ]
    },
    {
     "data": {
      "text/html": [
       "<div>\n",
       "<style scoped>\n",
       "    .dataframe tbody tr th:only-of-type {\n",
       "        vertical-align: middle;\n",
       "    }\n",
       "\n",
       "    .dataframe tbody tr th {\n",
       "        vertical-align: top;\n",
       "    }\n",
       "\n",
       "    .dataframe thead th {\n",
       "        text-align: right;\n",
       "    }\n",
       "</style>\n",
       "<table border=\"1\" class=\"dataframe\">\n",
       "  <thead>\n",
       "    <tr style=\"text-align: right;\">\n",
       "      <th></th>\n",
       "      <th>cluster_cell_ID</th>\n",
       "      <th>cluster_cell_E</th>\n",
       "      <th>cluster_Eta</th>\n",
       "      <th>cluster_Phi</th>\n",
       "    </tr>\n",
       "    <tr>\n",
       "      <th>entry</th>\n",
       "      <th></th>\n",
       "      <th></th>\n",
       "      <th></th>\n",
       "      <th></th>\n",
       "    </tr>\n",
       "  </thead>\n",
       "  <tbody>\n",
       "    <tr>\n",
       "      <th>0</th>\n",
       "      <td>[]</td>\n",
       "      <td>[]</td>\n",
       "      <td>[]</td>\n",
       "      <td>[]</td>\n",
       "    </tr>\n",
       "    <tr>\n",
       "      <th>1</th>\n",
       "      <td>[[759192106, 759192104, 759192108, 759191594, ...</td>\n",
       "      <td>[[77.977806, 24.14488, 4.869435, 2.659961, 21....</td>\n",
       "      <td>[-1.143686]</td>\n",
       "      <td>[0.5293207]</td>\n",
       "    </tr>\n",
       "    <tr>\n",
       "      <th>2</th>\n",
       "      <td>[[751056134, 751056132, 751056136, 751055622, ...</td>\n",
       "      <td>[[413.32898, 48.909393, 90.18763, 39.86163, 27...</td>\n",
       "      <td>[-2.0994453]</td>\n",
       "      <td>[-3.0541317]</td>\n",
       "    </tr>\n",
       "    <tr>\n",
       "      <th>3</th>\n",
       "      <td>[[751053140, 751053138, 751053142, 751052628, ...</td>\n",
       "      <td>[[1.652616, 0.11616877, 0.71565634, 0.10801599...</td>\n",
       "      <td>[-1.9524345, -1.9014493]</td>\n",
       "      <td>[-2.0981069, -1.982254]</td>\n",
       "    </tr>\n",
       "    <tr>\n",
       "      <th>4</th>\n",
       "      <td>[[749243440, 749243442, 749242928, 749243952, ...</td>\n",
       "      <td>[[0.25986475, 0.048873316, 0.0951039, 0.186739...</td>\n",
       "      <td>[-1.7287459]</td>\n",
       "      <td>[2.4218318]</td>\n",
       "    </tr>\n",
       "    <tr>\n",
       "      <th>...</th>\n",
       "      <td>...</td>\n",
       "      <td>...</td>\n",
       "      <td>...</td>\n",
       "      <td>...</td>\n",
       "    </tr>\n",
       "    <tr>\n",
       "      <th>19995</th>\n",
       "      <td>[[749757984, 749757986, 749757472, 749758496, ...</td>\n",
       "      <td>[[0.6816676, 0.008014569, 0.2565823, 0.3002508...</td>\n",
       "      <td>[-2.3337884]</td>\n",
       "      <td>[1.6153674]</td>\n",
       "    </tr>\n",
       "    <tr>\n",
       "      <th>19996</th>\n",
       "      <td>[[759180956, 759180954, 759180958, 759180444, ...</td>\n",
       "      <td>[[64.28961, 3.8230877, 12.329029, 2.738421, 3....</td>\n",
       "      <td>[-0.58717525]</td>\n",
       "      <td>[1.9303617]</td>\n",
       "    </tr>\n",
       "    <tr>\n",
       "      <th>19997</th>\n",
       "      <td>[[740295258, 740295256, 740295260, 740294746, ...</td>\n",
       "      <td>[[56.3288, 5.3618994, 7.271554, 1.4210855, 1.7...</td>\n",
       "      <td>[-2.6642337]</td>\n",
       "      <td>[-1.8128626]</td>\n",
       "    </tr>\n",
       "    <tr>\n",
       "      <th>19998</th>\n",
       "      <td>[[759177744, 759177742, 759177746, 759177232, ...</td>\n",
       "      <td>[[48.33428, 38.986496, 1.816141, 5.113716, 2.3...</td>\n",
       "      <td>[-0.4333189, -0.8480996]</td>\n",
       "      <td>[0.19949593, 0.17096592]</td>\n",
       "    </tr>\n",
       "    <tr>\n",
       "      <th>19999</th>\n",
       "      <td>[[776213366, 776213364, 776213368, 776212854, ...</td>\n",
       "      <td>[[0.55646944, 0.15287827, 0.1772097, 0.2801490...</td>\n",
       "      <td>[1.6651801, 1.7271428]</td>\n",
       "      <td>[-1.7095487, -1.7241595]</td>\n",
       "    </tr>\n",
       "  </tbody>\n",
       "</table>\n",
       "<p>20000 rows × 4 columns</p>\n",
       "</div>"
      ],
      "text/plain": [
       "                                         cluster_cell_ID  \\\n",
       "entry                                                      \n",
       "0                                                     []   \n",
       "1      [[759192106, 759192104, 759192108, 759191594, ...   \n",
       "2      [[751056134, 751056132, 751056136, 751055622, ...   \n",
       "3      [[751053140, 751053138, 751053142, 751052628, ...   \n",
       "4      [[749243440, 749243442, 749242928, 749243952, ...   \n",
       "...                                                  ...   \n",
       "19995  [[749757984, 749757986, 749757472, 749758496, ...   \n",
       "19996  [[759180956, 759180954, 759180958, 759180444, ...   \n",
       "19997  [[740295258, 740295256, 740295260, 740294746, ...   \n",
       "19998  [[759177744, 759177742, 759177746, 759177232, ...   \n",
       "19999  [[776213366, 776213364, 776213368, 776212854, ...   \n",
       "\n",
       "                                          cluster_cell_E  \\\n",
       "entry                                                      \n",
       "0                                                     []   \n",
       "1      [[77.977806, 24.14488, 4.869435, 2.659961, 21....   \n",
       "2      [[413.32898, 48.909393, 90.18763, 39.86163, 27...   \n",
       "3      [[1.652616, 0.11616877, 0.71565634, 0.10801599...   \n",
       "4      [[0.25986475, 0.048873316, 0.0951039, 0.186739...   \n",
       "...                                                  ...   \n",
       "19995  [[0.6816676, 0.008014569, 0.2565823, 0.3002508...   \n",
       "19996  [[64.28961, 3.8230877, 12.329029, 2.738421, 3....   \n",
       "19997  [[56.3288, 5.3618994, 7.271554, 1.4210855, 1.7...   \n",
       "19998  [[48.33428, 38.986496, 1.816141, 5.113716, 2.3...   \n",
       "19999  [[0.55646944, 0.15287827, 0.1772097, 0.2801490...   \n",
       "\n",
       "                    cluster_Eta               cluster_Phi  \n",
       "entry                                                      \n",
       "0                            []                        []  \n",
       "1                   [-1.143686]               [0.5293207]  \n",
       "2                  [-2.0994453]              [-3.0541317]  \n",
       "3      [-1.9524345, -1.9014493]   [-2.0981069, -1.982254]  \n",
       "4                  [-1.7287459]               [2.4218318]  \n",
       "...                         ...                       ...  \n",
       "19995              [-2.3337884]               [1.6153674]  \n",
       "19996             [-0.58717525]               [1.9303617]  \n",
       "19997              [-2.6642337]              [-1.8128626]  \n",
       "19998  [-0.4333189, -0.8480996]  [0.19949593, 0.17096592]  \n",
       "19999    [1.6651801, 1.7271428]  [-1.7095487, -1.7241595]  \n",
       "\n",
       "[20000 rows x 4 columns]"
      ]
     },
     "execution_count": 39,
     "metadata": {},
     "output_type": "execute_result"
    }
   ],
   "source": [
    "df_all_cols = infile['EventTree'].pandas.df(flatten=False)\n",
    "df = df_all_cols[['cluster_cell_ID', 'cluster_cell_E', 'cluster_Eta', 'cluster_Phi']]\n",
    "df"
   ]
  },
  {
   "cell_type": "markdown",
   "id": "designing-concord",
   "metadata": {},
   "source": [
    "## Checking events with no registered clusters"
   ]
  },
  {
   "cell_type": "code",
   "execution_count": 40,
   "id": "continuing-democrat",
   "metadata": {},
   "outputs": [],
   "source": [
    "# df[df[\"cluster_cell_E\"].map(len) == 0]"
   ]
  },
  {
   "cell_type": "code",
   "execution_count": 41,
   "id": "spatial-commissioner",
   "metadata": {},
   "outputs": [],
   "source": [
    "# test = pd.DataFrame(\n",
    "#     df_all_cols[df_all_cols[\"cluster_cell_E\"].map(len) == 0][\"truthPartStatus\"].apply(pd.Series).stack().reset_index(drop=True)\n",
    "# )\n",
    "# test.columns = [\"truthPartStatus\"]\n",
    "# test[\"truthPartE\"] = df_all_cols[df_all_cols[\"cluster_cell_E\"].map(len) == 0][\"truthPartE\"].apply(pd.Series).stack().reset_index(drop=True)\n",
    "# test = test[test[\"truthPartStatus\"] == 1]\n",
    "# test"
   ]
  },
  {
   "cell_type": "code",
   "execution_count": 42,
   "id": "painful-harvest",
   "metadata": {},
   "outputs": [],
   "source": [
    "# test[\"truthPartE\"].describe()"
   ]
  },
  {
   "cell_type": "code",
   "execution_count": 43,
   "id": "transparent-viking",
   "metadata": {},
   "outputs": [],
   "source": [
    "# plt.hist(test[\"truthPartE\"], bins = [x/100 for x in range(0, 100)], density=True)\n",
    "# plt.xlabel(\"truthPartE\")\n",
    "# plt.ylabel(\"Fraction of Events\")\n",
    "# plt.title(\"Truth Particles with Status Code 1 (No cluster)\")\n",
    "# plt.axis([0, 1, 0, 3])"
   ]
  },
  {
   "cell_type": "markdown",
   "id": "seventh-fellowship",
   "metadata": {},
   "source": [
    "# Graph making functions"
   ]
  },
  {
   "cell_type": "code",
   "execution_count": 44,
   "id": "oriented-newspaper",
   "metadata": {},
   "outputs": [],
   "source": [
    "def geo_df_to_xyz(geo_df):\n",
    "    \"\"\"\n",
    "    Adds xyz coordinates to geo_df\n",
    "    \n",
    "    Params:\n",
    "        geo_df: pd.DataFrame \n",
    "    \n",
    "    Returns:\n",
    "        geo_df_with_xyz: pd.DataFrame original dataframe plus x y x coordinates for each cell\n",
    "    \n",
    "    \"\"\"\n",
    "    geo_df[\"cell_geo_x\"] = geo_df[\"cell_geo_rPerp\"] * np.cos(geo_df[\"cell_geo_phi\"])\n",
    "    geo_df[\"cell_geo_y\"] = geo_df[\"cell_geo_rPerp\"] * np.sin(geo_df[\"cell_geo_phi\"])\n",
    "    cell_geo_theta = 2 * np.arctan(np.exp(-geo_df[\"cell_geo_eta\"]))\n",
    "    geo_df[\"cell_geo_z\"] = geo_df[\"cell_geo_rPerp\"] / np.tan(cell_geo_theta)\n",
    "    return geo_df"
   ]
  },
  {
   "cell_type": "code",
   "execution_count": 45,
   "id": "explicit-underground",
   "metadata": {},
   "outputs": [],
   "source": [
    "geo_df = geo_df_to_xyz(geo_df)"
   ]
  },
  {
   "cell_type": "code",
   "execution_count": 82,
   "id": "casual-medication",
   "metadata": {},
   "outputs": [],
   "source": [
    "# throw out empty particles in out layer []\n",
    "\n",
    "# check here for the old code of make_graph()\n",
    "# https://github.com/evilpegasus/LCStudies/blob/cnn_dev/classifier/TopoClusterClassiferGraph.ipynb\n",
    "\n",
    "def make_graph(event: pd.Series, geo_df: pd.DataFrame, is_charged):\n",
    "    \"\"\"\n",
    "    Creates a graph representation of an event\n",
    "    \n",
    "    inputs\n",
    "    event (pd.Series) one event/row from EventTree\n",
    "    geo_df (pd.DataFrame) the CellGeo DataFrame mapping cell_geo_ID to information about the cell\n",
    "    is_charged (bool) True for charged pion, False for uncharged pion\n",
    "    \n",
    "    returns\n",
    "    A graph representation of the event for the GNN\n",
    "    returns (None, None) if no cell energies detected\n",
    "    \"\"\"\n",
    "    assert len(event[\"cluster_cell_E\"]) == len(event[\"cluster_cell_ID\"]), \"Error: Missmatched len of cluster_cell_E and cluster_cell_ID\"\n",
    "    # If no energies were registered return tuple(None, None)\n",
    "    if len(event[\"cluster_cell_E\"]) == 0:\n",
    "        return None, None\n",
    "    \n",
    "    temp_df = geo_df[geo_df[\"cell_geo_ID\"].isin([item for sublist in event[\"cluster_cell_ID\"] for item in sublist])]\n",
    "    temp_df = temp_df.set_index(\"cell_geo_ID\")\n",
    "    for cell_id, cell_e in zip(\n",
    "        [item for sublist in event[\"cluster_cell_ID\"] for item in sublist],\n",
    "        [item for sublist in event[\"cluster_cell_E\"] for item in sublist]\n",
    "    ):\n",
    "        temp_df.loc[int(cell_id), \"cell_E\"] = cell_e\n",
    "    \n",
    "    \n",
    "    \n",
    "    n_nodes = temp_df.shape[0]\n",
    "    \n",
    "    nodes = temp_df[\"cell_E\"].to_numpy(dtype=np.float32).reshape(-1,1)\n",
    "    \n",
    "    # NOTE FAIR also has a faster algo for KNN search. Might want to try it\n",
    "    \n",
    "    k = 5\n",
    "    k = min(n_nodes, k)\n",
    "    \n",
    "    nbrs = NearestNeighbors(n_neighbors=k, algorithm='ball_tree').fit(temp_df[[\"cell_geo_x\", \"cell_geo_y\", \"cell_geo_z\"]])\n",
    "    distances, indices = nbrs.kneighbors(temp_df[[\"cell_geo_x\", \"cell_geo_y\", \"cell_geo_z\"]])\n",
    "    \n",
    "    senders = np.repeat([x[0] for x in indices], k-1)               # k-1 for no self edges\n",
    "    receivers = np.array([x[1:] for x in indices]).flatten()        # x[1:] for no self edges\n",
    "    edges = np.array([x[1:] for x in distances], dtype=np.float32).flatten().reshape(-1, 1)\n",
    "    n_edges = len(senders)\n",
    "    \n",
    "    solution = int(is_charged)\n",
    "    \n",
    "    input_datadict = {\n",
    "        \"n_node\": n_nodes,\n",
    "        \"n_edge\": n_edges,\n",
    "        \"nodes\": nodes,\n",
    "        \"edges\": edges,\n",
    "        \"senders\": senders,\n",
    "        \"receivers\": receivers,\n",
    "        \"globals\": np.array([n_nodes], dtype=np.float32)\n",
    "    }\n",
    "    target_datadict = {\n",
    "        \"n_node\": n_nodes,\n",
    "        \"n_edge\": n_edges,\n",
    "        \"nodes\": nodes,\n",
    "        \"edges\": edges,\n",
    "        \"senders\": senders,\n",
    "        \"receivers\": receivers,\n",
    "        \"globals\": np.array([solution], dtype=np.float32)\n",
    "    }\n",
    "    input_graph = utils_tf.data_dicts_to_graphs_tuple([input_datadict])\n",
    "    target_graph = utils_tf.data_dicts_to_graphs_tuple([target_datadict])\n",
    "    \n",
    "    \n",
    "    return input_graph, target_graph\n",
    "#     return temp_df"
   ]
  },
  {
   "cell_type": "code",
   "execution_count": 85,
   "id": "hybrid-baseball",
   "metadata": {},
   "outputs": [],
   "source": [
    "def print_graphs_tuple(g, data=True):\n",
    "    for field_name in graphs.ALL_FIELDS:\n",
    "        per_replica_sample = getattr(g, field_name)\n",
    "        if per_replica_sample is None:\n",
    "            print(field_name, \"EMPTY\")\n",
    "        else:\n",
    "            print(field_name, \"has shape\", per_replica_sample.shape)\n",
    "            if data and  field_name != \"edges\":\n",
    "                print(per_replica_sample)"
   ]
  },
  {
   "cell_type": "code",
   "execution_count": 420,
   "id": "pointed-election",
   "metadata": {},
   "outputs": [],
   "source": [
    "test_graph_pair = make_graph(df.iloc[2], geo_df, 1)\n",
    "# test_graph_pair"
   ]
  },
  {
   "cell_type": "code",
   "execution_count": 421,
   "id": "miniature-family",
   "metadata": {},
   "outputs": [
    {
     "name": "stdout",
     "output_type": "stream",
     "text": [
      "nodes has shape (127, 1)\n",
      "edges has shape (508, 1)\n",
      "receivers has shape (508,)\n",
      "senders has shape (508,)\n",
      "globals has shape (1, 1)\n",
      "n_node has shape (1,)\n",
      "n_edge has shape (1,)\n"
     ]
    }
   ],
   "source": [
    "print_graphs_tuple(test_graph_pair[1], data=False)"
   ]
  },
  {
   "cell_type": "code",
   "execution_count": 88,
   "id": "southwest-medium",
   "metadata": {},
   "outputs": [],
   "source": [
    "# small set of 100 points for testing\n",
    "\n",
    "graph_list = []\n",
    "for i in range(100):\n",
    "    graph_list.append(make_graph(df.loc[i], geo_df, 0))"
   ]
  },
  {
   "cell_type": "code",
   "execution_count": 89,
   "id": "miniature-heaven",
   "metadata": {
    "scrolled": true
   },
   "outputs": [],
   "source": [
    "# print graphs out\n",
    "\n",
    "# for i, g in enumerate(graph_list):\n",
    "#     print(\"Graph\", i)\n",
    "#     if g[0] is None:\n",
    "#         print(g)\n",
    "#         continue\n",
    "#     print_graphs_tuple(g[0], data=False)"
   ]
  },
  {
   "cell_type": "code",
   "execution_count": 90,
   "id": "median-dryer",
   "metadata": {},
   "outputs": [],
   "source": [
    "# plot a graph\n",
    "\n",
    "# graphs_nx = utils_np.graphs_tuple_to_networkxs(graph_list[2][0])\n",
    "# _, axs = plt.subplots(ncols=2, figsize=(20, 10))\n",
    "# for iax, (graph_nx, ax) in enumerate(zip(graphs_nx, axs)):\n",
    "#     nx.draw(graph_nx, ax=ax)\n",
    "#     ax.set_title(\"Graph {}\".format(iax))"
   ]
  },
  {
   "cell_type": "code",
   "execution_count": 345,
   "id": "front-brake",
   "metadata": {},
   "outputs": [],
   "source": [
    "pi0_files = os.listdir(inputpath_pi0)[:50]\n",
    "pion_files = os.listdir(inputpath_pion)[:50]"
   ]
  },
  {
   "cell_type": "code",
   "execution_count": 346,
   "id": "consistent-korean",
   "metadata": {},
   "outputs": [],
   "source": [
    "graph_list = []    # list of outputs from make_graph() in the form (input graph, target graph)"
   ]
  },
  {
   "cell_type": "code",
   "execution_count": null,
   "id": "naughty-mercury",
   "metadata": {},
   "outputs": [
    {
     "name": "stderr",
     "output_type": "stream",
     "text": [
      "  0%|          | 0/50 [00:00<?, ?it/s]/global/home/users/mfong/anaconda3/envs/graph/lib/python3.8/site-packages/awkward0/array/base.py:398: VisibleDeprecationWarning: Creating an ndarray from ragged nested sequences (which is a list-or-tuple of lists-or-tuples-or ndarrays with different lengths or shapes) is deprecated. If you meant to do this, you must specify 'dtype=object' when creating the ndarray\n",
      "  return cls.numpy.array(value, copy=False)\n",
      "  2%|▏         | 470/20000 [00:09<06:10, 52.71it/s]"
     ]
    }
   ],
   "source": [
    "# create and append pi0 graphs to graph_list\n",
    "\n",
    "for pi0_file in tqdm(pi0_files, position=0, leave=True):\n",
    "    infile = ur.open(inputpath_pi0 + pi0_file)\n",
    "    \n",
    "    geo_df = infile['CellGeo'].pandas.df(geo_branches)\n",
    "    geo_df = geo_df_to_xyz(geo_df)\n",
    "    \n",
    "    df = infile['EventTree'].pandas.df(flatten=False)[['cluster_cell_ID', 'cluster_cell_E', 'cluster_Eta', 'cluster_Phi']]\n",
    "    \n",
    "    for i in tqdm(range(len(df)), position=0, leave=True):\n",
    "        graph_list.append((make_graph(df.iloc[i], geo_df, 0)))"
   ]
  },
  {
   "cell_type": "code",
   "execution_count": null,
   "id": "optical-national",
   "metadata": {},
   "outputs": [],
   "source": [
    "# create and append piplus/piminus graphs to graph_list\n",
    "\n",
    "for pion_file in tqdm(pion_files, position=0, leave=True):\n",
    "    infile = ur.open(inputpath_pion + pion_file)\n",
    "    \n",
    "    geo_df = infile['CellGeo'].pandas.df(geo_branches)\n",
    "    geo_df = geo_df_to_xyz(geo_df)\n",
    "    \n",
    "    df = infile['EventTree'].pandas.df(flatten=False)[['cluster_cell_ID', 'cluster_cell_E', 'cluster_Eta', 'cluster_Phi']]\n",
    "    \n",
    "    for i in tqdm(range(len(df)), position=0, leave=True):\n",
    "        graph_list.append((make_graph(df.iloc[i], geo_df, 1)))"
   ]
  },
  {
   "cell_type": "code",
   "execution_count": 432,
   "id": "fifteen-alliance",
   "metadata": {},
   "outputs": [
    {
     "data": {
      "text/plain": [
       "2000000"
      ]
     },
     "execution_count": 432,
     "metadata": {},
     "output_type": "execute_result"
    }
   ],
   "source": [
    "len(graph_list)"
   ]
  },
  {
   "cell_type": "code",
   "execution_count": 433,
   "id": "verified-athens",
   "metadata": {},
   "outputs": [
    {
     "data": {
      "text/plain": [
       "<tf.Tensor: shape=(1, 1), dtype=float32, numpy=array([[0.]], dtype=float32)>"
      ]
     },
     "execution_count": 433,
     "metadata": {},
     "output_type": "execute_result"
    }
   ],
   "source": [
    "graph_list[2][1].globals"
   ]
  },
  {
   "cell_type": "markdown",
   "id": "prompt-programming",
   "metadata": {},
   "source": [
    "# Graph Net Setup"
   ]
  },
  {
   "cell_type": "code",
   "execution_count": 440,
   "id": "jewish-water",
   "metadata": {},
   "outputs": [],
   "source": [
    "NUM_LAYERS = 2\n",
    "DROPOUT_RATE = 0.1\n",
    "def make_mlp_model():\n",
    "  \"\"\"Instantiates a new MLP, followed by LayerNorm.\n",
    "\n",
    "  The parameters of each new MLP are not shared with others generated by\n",
    "  this function.\n",
    "\n",
    "  Returns:\n",
    "    A Sonnet module which contains the MLP and LayerNorm.\n",
    "  \"\"\"\n",
    "  # the activation function choices:\n",
    "  # swish, relu, relu6, leaky_relu\n",
    "  return snt.Sequential([\n",
    "#       snt.nets.MLP([128, 64]*NUM_LAYERS,\n",
    "    snt.nets.MLP([128, 64],\n",
    "        activation=tf.nn.relu,\n",
    "        activate_final=True, \n",
    "#         dropout_rate=DROPOUT_RATE\n",
    "    ),\n",
    "    snt.LayerNorm(axis=-1, create_scale=True, create_offset=False)\n",
    "  ])"
   ]
  },
  {
   "cell_type": "code",
   "execution_count": 441,
   "id": "rising-integration",
   "metadata": {},
   "outputs": [],
   "source": [
    "class MLPGraphNetwork(snt.Module):\n",
    "    \"\"\"GraphIndependent with MLP edge, node, and global models.\"\"\"\n",
    "    def __init__(self, name=\"MLPGraphNetwork\"):\n",
    "        super(MLPGraphNetwork, self).__init__(name=name)\n",
    "        self._network = modules.GraphNetwork(\n",
    "            edge_model_fn=make_mlp_model,\n",
    "            node_model_fn=make_mlp_model,\n",
    "            global_model_fn=make_mlp_model\n",
    "            )\n",
    "\n",
    "    def __call__(self, inputs,\n",
    "            edge_model_kwargs=None,\n",
    "            node_model_kwargs=None,\n",
    "            global_model_kwargs=None):\n",
    "        return self._network(inputs,\n",
    "                      edge_model_kwargs=edge_model_kwargs,\n",
    "                      node_model_kwargs=node_model_kwargs,\n",
    "                      global_model_kwargs=global_model_kwargs)"
   ]
  },
  {
   "cell_type": "code",
   "execution_count": 442,
   "id": "improved-trigger",
   "metadata": {},
   "outputs": [],
   "source": [
    "LATENT_SIZE = 128\n",
    "NUM_LAYERS = 3\n",
    "\n",
    "class GlobalClassifier(snt.Module):\n",
    "\n",
    "    def __init__(self, name=\"GlobalClassifier\"):\n",
    "        super(GlobalClassifier, self).__init__(name=name)\n",
    "\n",
    "        self._edge_block = blocks.EdgeBlock(\n",
    "            edge_model_fn=make_mlp_model,\n",
    "            use_edges = True,\n",
    "            use_receiver_nodes = True,\n",
    "            use_sender_nodes = True,\n",
    "            use_globals = True,            # can try true later\n",
    "            name='edge_encoder_block')\n",
    "\n",
    "        self._node_encoder_block = blocks.NodeBlock(\n",
    "            node_model_fn=make_mlp_model,\n",
    "            use_received_edges=True,      # if assigning edge features set to true\n",
    "            use_sent_edges=True,          # if assigning edge features set to true\n",
    "            use_nodes=True,\n",
    "            use_globals=True,             # can try true later to see if any effect\n",
    "            name='node_encoder_block'\n",
    "        )\n",
    "\n",
    "        self._global_block = blocks.GlobalBlock(\n",
    "            global_model_fn=make_mlp_model,\n",
    "            use_edges=True,\n",
    "            use_nodes=True,\n",
    "            use_globals=True,\n",
    "        )\n",
    "\n",
    "        self._core = MLPGraphNetwork()\n",
    "        # Transforms the outputs into appropriate shapes.\n",
    "        global_output_size = 1\n",
    "        global_fn = lambda: snt.Sequential([\n",
    "#             snt.nets.MLP([32, 64],),\n",
    "#             snt.nets.MLP([128, 64],),\n",
    "            snt.nets.MLP([128, 64, 128, global_output_size], name='global_output'),       # TODO add more layers, end with size 1\n",
    "            tf.sigmoid\n",
    "        ])\n",
    "\n",
    "        self._output_transform = modules.GraphIndependent(None, None, global_fn)\n",
    "\n",
    "    def __call__(self, input_op, num_processing_steps):\n",
    "        latent = self._global_block(self._edge_block(self._node_encoder_block(input_op)))\n",
    "        latent0 = latent\n",
    "\n",
    "        output_ops = []\n",
    "        for _ in range(num_processing_steps):\n",
    "            core_input = utils_tf.concat([latent0, latent], axis=1)\n",
    "            latent = self._core(core_input)\n",
    "            output_ops.append(self._output_transform(latent))\n",
    "\n",
    "        return output_ops"
   ]
  },
  {
   "cell_type": "code",
   "execution_count": 443,
   "id": "significant-arizona",
   "metadata": {},
   "outputs": [
    {
     "data": {
      "text/plain": [
       "GlobalClassifier()"
      ]
     },
     "execution_count": 443,
     "metadata": {},
     "output_type": "execute_result"
    }
   ],
   "source": [
    "model = GlobalClassifier()\n",
    "model"
   ]
  },
  {
   "cell_type": "code",
   "execution_count": 444,
   "id": "ready-jungle",
   "metadata": {},
   "outputs": [
    {
     "data": {
      "text/plain": [
       "<tf.Tensor: shape=(1, 1), dtype=float32, numpy=array([[1.]], dtype=float32)>"
      ]
     },
     "execution_count": 444,
     "metadata": {},
     "output_type": "execute_result"
    }
   ],
   "source": [
    "test_graph_pair[1].globals"
   ]
  },
  {
   "cell_type": "code",
   "execution_count": 445,
   "id": "arranged-seeking",
   "metadata": {},
   "outputs": [
    {
     "data": {
      "text/plain": [
       "<tf.Tensor: shape=(1, 1), dtype=float32, numpy=array([[0.5522311]], dtype=float32)>"
      ]
     },
     "execution_count": 445,
     "metadata": {},
     "output_type": "execute_result"
    }
   ],
   "source": [
    "output_graphs = model(test_graph_pair[0], 1)\n",
    "output_graphs[0].globals"
   ]
  },
  {
   "cell_type": "code",
   "execution_count": 446,
   "id": "elementary-addition",
   "metadata": {},
   "outputs": [],
   "source": [
    "# Loss function:\n",
    "\n",
    "class GlobalLoss:\n",
    "    def __init__(self, real_global_weight, fake_global_weight):\n",
    "        self.w_global_real = real_global_weight\n",
    "        self.w_global_fake = fake_global_weight\n",
    "\n",
    "    def __call__(self, target_op, output_ops):\n",
    "        global_weights = target_op.globals * self.w_global_real \\\n",
    "            + (1 - target_op.globals) * self.w_global_fake\n",
    "        \n",
    "#         print(global_weights)\n",
    "        \n",
    "        loss_ops = [\n",
    "            tf.compat.v1.losses.log_loss(target_op.globals, output_op.globals, weights=global_weights)\n",
    "            for output_op in output_ops\n",
    "        ]\n",
    "        return tf.stack(loss_ops)"
   ]
  },
  {
   "cell_type": "code",
   "execution_count": 447,
   "id": "joint-workplace",
   "metadata": {},
   "outputs": [],
   "source": [
    "loss_function_global = GlobalLoss(real_global_weight = 1.0, fake_global_weight = 1.0)"
   ]
  },
  {
   "cell_type": "code",
   "execution_count": 448,
   "id": "compound-girlfriend",
   "metadata": {},
   "outputs": [
    {
     "data": {
      "text/plain": [
       "<tf.Tensor: shape=(1,), dtype=float32, numpy=array([0.5937885], dtype=float32)>"
      ]
     },
     "execution_count": 448,
     "metadata": {},
     "output_type": "execute_result"
    }
   ],
   "source": [
    "loss_function_global(test_graph_pair[1], output_graphs)"
   ]
  },
  {
   "cell_type": "code",
   "execution_count": 449,
   "id": "valued-basket",
   "metadata": {},
   "outputs": [],
   "source": [
    "def get_signature(dataset, batch_size):\n",
    "    \"\"\"\n",
    "    Get signature of inputs for the training loop.\n",
    "    The signature is used by tf.function\n",
    "    \"\"\"\n",
    "\n",
    "    input_list = []\n",
    "    target_list = []\n",
    "    for _, data in dataset.iterrows():\n",
    "        dd = make_graph(data, geo_df, 0)\n",
    "        if dd[0] is not None:\n",
    "            input_list.append(dd[0])\n",
    "            target_list.append(dd[1])\n",
    "            \n",
    "        if len(input_list) == batch_size:\n",
    "            break\n",
    "\n",
    "    inputs = utils_tf.concat(input_list, axis=0)\n",
    "    targets = utils_tf.concat(target_list, axis=0)\n",
    "    input_signature = (\n",
    "      utils_tf.specs_from_graphs_tuple(inputs),\n",
    "      utils_tf.specs_from_graphs_tuple(targets)\n",
    "    )\n",
    "    \n",
    "    return input_signature"
   ]
  },
  {
   "cell_type": "code",
   "execution_count": 450,
   "id": "imperial-witch",
   "metadata": {},
   "outputs": [],
   "source": [
    "batch_size = 200\n",
    "input_signature = get_signature(df, batch_size)\n",
    "\n",
    "\n",
    "# Model parameters.\n",
    "# Number of processing (message-passing) steps.\n",
    "num_processing_steps_tr = 2\n",
    "num_processing_steps_te = 2\n",
    "\n",
    "\n",
    "learning_rate = 1e-3\n",
    "optimizer = snt.optimizers.Adam(learning_rate)\n",
    "\n",
    "\n",
    "# model = models.EncodeProcessDecode(edge_output_size=2, node_output_size=2)\n",
    "last_iteration = 0\n",
    "generalization_iteration = 0\n",
    "\n",
    "logged_iterations = []\n",
    "\n",
    "losses_tr = []\n",
    "corrects_tr = []\n",
    "solveds_tr = []\n",
    "\n",
    "losses_test = []\n",
    "corrects_test = []\n",
    "solveds_test = []\n",
    "\n",
    "\n",
    "@functools.partial(tf.function, input_signature=input_signature)\n",
    "def update_step(inputs_tr, targets_tr):\n",
    "    print(\"Tracing update_step\")\n",
    "    with tf.GradientTape() as tape:\n",
    "        outputs_tr = model(inputs_tr, num_processing_steps_tr)\n",
    "        loss_ops_tr = loss_function_global(targets_tr, outputs_tr)\n",
    "        loss_op_tr = tf.math.reduce_sum(loss_ops_tr) / tf.constant(num_processing_steps_tr, dtype=tf.float32)\n",
    "\n",
    "    gradients = tape.gradient(loss_op_tr, model.trainable_variables)\n",
    "    optimizer.apply(gradients, model.trainable_variables)\n",
    "    return outputs_tr, loss_op_tr"
   ]
  },
  {
   "cell_type": "code",
   "execution_count": 451,
   "id": "consistent-geneva",
   "metadata": {},
   "outputs": [
    {
     "name": "stdout",
     "output_type": "stream",
     "text": [
      "Number of training graph pairs:  1600000\n",
      "Number of testing graph pairs:  400000\n"
     ]
    }
   ],
   "source": [
    "# train and test sets\n",
    "graph_list = shuffle(graph_list, random_state=42)\n",
    "train_graphs, test_graphs = train_test_split(graph_list, test_size = 0.2, random_state = 42)\n",
    "print(\"Number of training graph pairs: \", len(train_graphs))\n",
    "print(\"Number of testing graph pairs: \", len(test_graphs))"
   ]
  },
  {
   "cell_type": "code",
   "execution_count": null,
   "id": "grateful-functionality",
   "metadata": {},
   "outputs": [
    {
     "name": "stdout",
     "output_type": "stream",
     "text": [
      "Tracing update_step\n"
     ]
    },
    {
     "name": "stderr",
     "output_type": "stream",
     "text": [
      "/global/home/users/mfong/anaconda3/envs/graph/lib/python3.8/site-packages/tensorflow/python/framework/indexed_slices.py:433: UserWarning: Converting sparse IndexedSlices to a dense Tensor of unknown shape. This may consume a large amount of memory.\n",
      "  warnings.warn(\n"
     ]
    },
    {
     "name": "stdout",
     "output_type": "stream",
     "text": [
      "Tracing update_step\n"
     ]
    }
   ],
   "source": [
    "%%time\n",
    "# %%capture output\n",
    "\n",
    "for epoch in range(100):\n",
    "    total_loss = 0.\n",
    "    num_batches = 0\n",
    "\n",
    "    input_list = []\n",
    "    target_list = []\n",
    "\n",
    "\n",
    "    # training dataset\n",
    "    for data in train_graphs:\n",
    "        input_tr, target_tr = data\n",
    "        if input_tr is None:\n",
    "                continue\n",
    "        input_list.append(input_tr)\n",
    "        target_list.append(target_tr)\n",
    "        if len(input_list) >= batch_size:\n",
    "            input_tr = utils_tf.concat(input_list, axis=0)\n",
    "            target_tr = utils_tf.concat(target_list, axis=0)\n",
    "\n",
    "            current_loss = update_step(input_tr, target_tr)[1].numpy()\n",
    "            total_loss += current_loss\n",
    "\n",
    "            num_batches += 1\n",
    "            input_list = []\n",
    "            target_list = []\n",
    "    loss_tr = total_loss / num_batches\n",
    "    losses_tr.append(loss_tr)\n",
    "\n",
    "\n",
    "    # testing dataset\n",
    "    total_loss_test = 0.\n",
    "    num_batches_test = 0\n",
    "    input_list_test = []\n",
    "    target_list_test = []\n",
    "    for data in test_graphs:\n",
    "        input_test, target_test = data\n",
    "        if input_test is None:\n",
    "                continue\n",
    "        input_list_test.append(input_test)\n",
    "        target_list_test.append(target_test)\n",
    "        if len(input_list_test) >= batch_size:\n",
    "            input_test = utils_tf.concat(input_list, axis=0)\n",
    "            target_test = utils_tf.concat(target_list, axis=0)\n",
    "            output_test = model(input_test, num_processing_steps_te)\n",
    "            loss_ops_test = loss_function_global(target_test, output_test)\n",
    "            total_loss_test += tf.math.reduce_sum(loss_ops_test) / tf.constant(num_processing_steps_tr, dtype=tf.float32)\n",
    "\n",
    "\n",
    "\n",
    "            num_batches_test += 1\n",
    "            input_list_test = []\n",
    "            target_list_test = []\n",
    "    loss_test = total_loss_test / num_batches_test\n",
    "    losses_test.append(loss_test)\n",
    "\n",
    "\n",
    "    print_string = f\"Epoch: {epoch}\\tloss_tr: {loss_tr}\\tloss_test: {loss_test}\"\n",
    "    with open(\"log2.txt\", \"a\") as log:\n",
    "        log.write(print_string + \"\\n\")\n",
    "    print(print_string)\n",
    "# TODO add a checkpoint > save to disk"
   ]
  },
  {
   "cell_type": "code",
   "execution_count": 453,
   "id": "impaired-bullet",
   "metadata": {},
   "outputs": [
    {
     "data": {
      "image/png": "[encoded data removed]",
      "text/plain": [
       "<Figure size 432x288 with 1 Axes>"
      ]
     },
     "metadata": {
      "needs_background": "light"
     },
     "output_type": "display_data"
    }
   ],
   "source": [
    "plt.plot(losses_tr, label=\"Train\")\n",
    "plt.plot(losses_test, label=\"Test\")\n",
    "plt.legend()\n",
    "plt.title(\"Losses per epoch\");"
   ]
  },
  {
   "cell_type": "code",
   "execution_count": 403,
   "id": "fatal-groove",
   "metadata": {},
   "outputs": [
    {
     "data": {
      "image/png": "[encoded data removed]",
      "text/plain": [
       "<Figure size 432x288 with 1 Axes>"
      ]
     },
     "metadata": {
      "needs_background": "light"
     },
     "output_type": "display_data"
    }
   ],
   "source": [
    "plt.plot(losses_tr, label=\"Train\")\n",
    "plt.plot(losses_test, label=\"Test\")\n",
    "plt.legend()\n",
    "plt.title(\"Losses per epoch\");"
   ]
  },
  {
   "cell_type": "code",
   "execution_count": null,
   "id": "charming-marble",
   "metadata": {},
   "outputs": [],
   "source": [
    "# calc roc curve and auc\n",
    "test_predictions = []\n",
    "test_truth = []\n",
    "\n",
    "input_list_test = []\n",
    "target_list_test = []\n",
    "for data in test_graphs:\n",
    "    input_test, target_test = data\n",
    "    if input_test is None:\n",
    "            continue\n",
    "    input_list_test.append(input_test)\n",
    "    target_list_test.append(target_test)\n",
    "    if len(input_list_test) >= batch_size:\n",
    "        input_test = utils_tf.concat(input_list, axis=0)\n",
    "        target_test = utils_tf.concat(target_list, axis=0)\n",
    "        output_test = model(input_test, num_processing_steps_te)\n",
    "        test_predictions.append(output_test[-1].globals)\n",
    "        test_truth.append(target_test.globals)"
   ]
  },
  {
   "cell_type": "code",
   "execution_count": 406,
   "id": "critical-baseball",
   "metadata": {},
   "outputs": [
    {
     "name": "stdout",
     "output_type": "stream",
     "text": [
      "roc_auc: 0.9877600979192166\n"
     ]
    },
    {
     "data": {
      "image/png": "[encoded data removed]",
      "text/plain": [
       "<Figure size 432x288 with 1 Axes>"
      ]
     },
     "metadata": {
      "needs_background": "light"
     },
     "output_type": "display_data"
    }
   ],
   "source": [
    "fpr, tpr, thresholds = roc_curve(\n",
    "    np.array([x.numpy() for x in test_truth]).flatten(),\n",
    "    np.array([x.numpy() for x in test_predictions]).flatten(),\n",
    "    pos_label=1\n",
    ")\n",
    "roc_auc = auc(fpr, tpr)\n",
    "print(\"roc_auc:\", roc_auc)\n",
    "plt.plot(fpr, tpr, label = 'AUC = %0.6f' % roc_auc)\n",
    "plt.legend(loc = 'lower right')\n",
    "plt.plot([0, 1], [0, 1],'r--')\n",
    "plt.xlim([0, 1])\n",
    "plt.ylim([0, 1])\n",
    "plt.ylabel('True Positive Rate')\n",
    "plt.xlabel('False Positive Rate');"
   ]
  },
  {
   "cell_type": "code",
   "execution_count": 419,
   "id": "answering-vietnam",
   "metadata": {},
   "outputs": [
    {
     "data": {
      "text/plain": [
       "27714300"
      ]
     },
     "execution_count": 419,
     "metadata": {},
     "output_type": "execute_result"
    }
   ],
   "source": [
    "len(np.array([x.numpy() for x in test_predictions]).flatten())"
   ]
  },
  {
   "cell_type": "code",
   "execution_count": 407,
   "id": "sixth-daniel",
   "metadata": {},
   "outputs": [
    {
     "data": {
      "image/png": "[encoded data removed]",
      "text/plain": [
       "<Figure size 432x288 with 1 Axes>"
      ]
     },
     "metadata": {
      "needs_background": "light"
     },
     "output_type": "display_data"
    }
   ],
   "source": [
    "plt.plot(fpr, label=\"fpr\")\n",
    "plt.plot(tpr, label=\"tpr\")\n",
    "plt.legend();"
   ]
  },
  {
   "cell_type": "code",
   "execution_count": 408,
   "id": "skilled-result",
   "metadata": {},
   "outputs": [
    {
     "name": "stdout",
     "output_type": "stream",
     "text": [
      "1498\n",
      "1498\n"
     ]
    }
   ],
   "source": [
    "print(len(fpr))\n",
    "print(len(tpr))"
   ]
  },
  {
   "cell_type": "code",
   "execution_count": 409,
   "id": "informative-laser",
   "metadata": {},
   "outputs": [
    {
     "data": {
      "image/png": "[encoded data removed]",
      "text/plain": [
       "<Figure size 432x288 with 1 Axes>"
      ]
     },
     "metadata": {
      "needs_background": "light"
     },
     "output_type": "display_data"
    }
   ],
   "source": [
    "plt.hist(np.array([x.numpy() for x in test_predictions]).flatten()[np.array([x.numpy() for x in test_truth]).flatten() == 1], bins=200)\n",
    "plt.hist(np.array([x.numpy() for x in test_predictions]).flatten()[np.array([x.numpy() for x in test_truth]).flatten() == 0], alpha=0.7, bins=200)\n",
    "plt.yscale(\"log\")"
   ]
  },
  {
   "cell_type": "code",
   "execution_count": 410,
   "id": "neutral-tyler",
   "metadata": {},
   "outputs": [
    {
     "data": {
      "text/plain": [
       "207"
      ]
     },
     "execution_count": 410,
     "metadata": {},
     "output_type": "execute_result"
    }
   ],
   "source": [
    "len(np.unique(np.array([x.numpy() for x in test_predictions]).flatten()[np.array([x.numpy() for x in test_truth]).flatten() == 1]))"
   ]
  },
  {
   "cell_type": "code",
   "execution_count": 411,
   "id": "under-lodging",
   "metadata": {},
   "outputs": [
    {
     "data": {
      "text/plain": [
       "1332"
      ]
     },
     "execution_count": 411,
     "metadata": {},
     "output_type": "execute_result"
    }
   ],
   "source": [
    "len(np.unique(np.array([x.numpy() for x in test_predictions]).flatten()[np.array([x.numpy() for x in test_truth]).flatten() == 0]))"
   ]
  },
  {
   "cell_type": "code",
   "execution_count": null,
   "id": "normal-charity",
   "metadata": {},
   "outputs": [],
   "source": []
  }
 ],
 "metadata": {
  "kernelspec": {
   "display_name": "Python 3",
   "language": "python",
   "name": "python3"
  },
  "language_info": {
   "codemirror_mode": {
    "name": "ipython",
    "version": 3
   },
   "file_extension": ".py",
   "mimetype": "text/x-python",
   "name": "python",
   "nbconvert_exporter": "python",
   "pygments_lexer": "ipython3",
   "version": "3.8.5"
  }
 },
 "nbformat": 4,
 "nbformat_minor": 5
}
